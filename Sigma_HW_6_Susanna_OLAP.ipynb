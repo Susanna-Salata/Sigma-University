{
  "nbformat": 4,
  "nbformat_minor": 0,
  "metadata": {
    "colab": {
      "provenance": [],
      "include_colab_link": true
    },
    "kernelspec": {
      "name": "python3",
      "display_name": "Python 3"
    },
    "language_info": {
      "name": "python"
    }
  },
  "cells": [
    {
      "cell_type": "markdown",
      "metadata": {
        "id": "view-in-github",
        "colab_type": "text"
      },
      "source": [
        "<a href=\"https://colab.research.google.com/github/Susanna-Salata/Sigma-University/blob/main/Sigma_HW_6_Susanna_OLAP.ipynb\" target=\"_parent\"><img src=\"https://colab.research.google.com/assets/colab-badge.svg\" alt=\"Open In Colab\"/></a>"
      ]
    },
    {
      "cell_type": "markdown",
      "source": [
        "Виконала: Сусанна Салата\n",
        "\n",
        "Homework_6, рівень складності: I\n"
      ],
      "metadata": {
        "id": "-fT6W_QNK3Eu"
      }
    },
    {
      "cell_type": "code",
      "source": [
        "import numpy as np\n",
        "import pandas as pd\n",
        "import math as mt\n",
        "import matplotlib.pyplot as plt\n",
        "import pylab\n",
        "%matplotlib inline\n",
        "import pip\n",
        "import xlrd"
      ],
      "metadata": {
        "id": "uhVheeduMulQ"
      },
      "execution_count": 10,
      "outputs": []
    },
    {
      "cell_type": "markdown",
      "source": [
        "Завдання - для визначення можливості автоматизації бізнес процесів, що реалізовані в\n",
        "компанії замовника Вам пропонується розробити макет програмної реалізації мовою Python\n",
        "обчислювального алгоритму ERP системи багатокритеріального прийняття рішень за умов：<br>\n",
        "Розробити програмний скрипт, що реалізує оцінювання ефективності вибору житла. Вихідні\n",
        "дані містять 12 критеріїв, з яких 4 – максимізованих, решта – мінімізованих. Кількість\n",
        "аналогічних товарів – 8. Вхідні дані занесені у файл. Формат файлу, тип товару, зміст\n",
        "показників та критеріїв ефективності та їх значення обрати самостійно.\n",
        "\n",
        "З використанням OLAP технологій провести інтелектуальний аналіз результатів розв’язку\n",
        "багатокритеріальної задачі, довести їх адекватність та сформувати висновки."
      ],
      "metadata": {
        "id": "7C1vOrgQ65I2"
      }
    },
    {
      "cell_type": "code",
      "source": [
        "from google.colab import drive\n",
        "drive.mount('/content/drive')"
      ],
      "metadata": {
        "colab": {
          "base_uri": "https://localhost:8080/"
        },
        "id": "4wd3LA5KO7v6",
        "outputId": "8afea0da-8dd4-46b1-c4c9-53c13669da0b"
      },
      "execution_count": 11,
      "outputs": [
        {
          "output_type": "stream",
          "name": "stdout",
          "text": [
            "Drive already mounted at /content/drive; to attempt to forcibly remount, call drive.mount(\"/content/drive\", force_remount=True).\n"
          ]
        }
      ]
    },
    {
      "cell_type": "code",
      "source": [
        "File_path = '/content/drive/MyDrive/Colab Notebooks/Data/Pr1.xls'\n",
        "df = pd.read_excel(File_path)"
      ],
      "metadata": {
        "id": "dqAohChFPdGh"
      },
      "execution_count": 12,
      "outputs": []
    },
    {
      "cell_type": "code",
      "source": [
        "def file_parsing(Data_name, sample_data):\n",
        "    for name, values in sample_data[[Data_name]].items():\n",
        "        values\n",
        "    n_sample_data = int(len(values))\n",
        "    S_real = np.zeros((n_sample_data))\n",
        "    for i in range(n_sample_data):\n",
        "        S_real[i] = values[i]\n",
        "    return S_real"
      ],
      "metadata": {
        "id": "IzWt1FMNU7en"
      },
      "execution_count": 13,
      "outputs": []
    },
    {
      "cell_type": "code",
      "source": [
        "def matrix_generation (File_name):\n",
        "    sample_data = pd.read_excel(File_name)\n",
        "    print(sample_data)\n",
        "    line_sample_data = int(sample_data.shape[0])\n",
        "    column_sample_data = int(sample_data.shape[1])\n",
        "    line_column_matrix = np.zeros(( (line_sample_data) ,(column_sample_data-2) ))\n",
        "    Title_sample_data = sample_data.columns\n",
        "    for i in range(1, (column_sample_data-1), 1):\n",
        "        column_matrix=file_parsing(Title_sample_data[i], sample_data)\n",
        "        for j in range(len(column_matrix)):\n",
        "            line_column_matrix[j, (i-1)] = column_matrix[j]\n",
        "    return line_column_matrix"
      ],
      "metadata": {
        "id": "QI5vlnkM_2Kj"
      },
      "execution_count": 14,
      "outputs": []
    },
    {
      "cell_type": "code",
      "source": [
        "def matrix_adapter (line_column_matrix, line):\n",
        "    column_sample_matrix = np.shape(line_column_matrix)\n",
        "    line_matrix = np.zeros((column_sample_matrix[1]))\n",
        "    for j in range(column_sample_matrix[1]):\n",
        "        line_matrix[j] =  line_column_matrix[line, j]\n",
        "    return line_matrix"
      ],
      "metadata": {
        "id": "K-s6ZJGcRRiT"
      },
      "execution_count": 15,
      "outputs": []
    },
    {
      "cell_type": "code",
      "source": [
        "def Voronin(File_name, G1, G2, G3, G4, G5, G6, G7, G8, G9):\n",
        "\n",
        "    # --------------------- вхідні дані -------------------------\n",
        "    line_column_matrix = matrix_generation(File_name)\n",
        "    column_matrix = np.shape(line_column_matrix)\n",
        "    Integro = np.zeros((column_matrix[1]))\n",
        "\n",
        "    F1 = matrix_adapter(line_column_matrix, 0)\n",
        "    F2 = matrix_adapter(line_column_matrix, 1)\n",
        "    F3 = matrix_adapter(line_column_matrix, 2)\n",
        "    F4 = matrix_adapter(line_column_matrix, 3)\n",
        "    F5 = matrix_adapter(line_column_matrix, 4)\n",
        "    F6 = matrix_adapter(line_column_matrix, 5)\n",
        "    F7 = matrix_adapter(line_column_matrix, 6)\n",
        "    F8 = matrix_adapter(line_column_matrix, 7)\n",
        "    F9 = matrix_adapter(line_column_matrix, 8)\n",
        "\n",
        "    #--------------- нормалізація вхідних даних ------------------\n",
        "    F10 = np.zeros((column_matrix[1]))\n",
        "    F20 = np.zeros((column_matrix[1]))\n",
        "    F30 = np.zeros((column_matrix[1]))\n",
        "    F40 = np.zeros((column_matrix[1]))\n",
        "    F50 = np.zeros((column_matrix[1]))\n",
        "    F60 = np.zeros((column_matrix[1]))\n",
        "    F70 = np.zeros((column_matrix[1]))\n",
        "    F80 = np.zeros((column_matrix[1]))\n",
        "    F90 = np.zeros((column_matrix[1]))\n",
        "\n",
        "    GNorm = G1 + G2 + G3 + G4 + G5 + G6 + G6 + G7 + G8 + G9\n",
        "    G10 = G1 / GNorm\n",
        "    G20 = G2 / GNorm\n",
        "    G30 = G3 / GNorm\n",
        "    G40 = G4 / GNorm\n",
        "    G50 = G5 / GNorm\n",
        "    G60 = G6 / GNorm\n",
        "    G70 = G7 / GNorm\n",
        "    G80 = G8 / GNorm\n",
        "    G90 = G9 / GNorm\n",
        "\n",
        "    sum_F1=sum_F2=sum_F3=sum_F4=sum_F5=sum_F6=sum_F7=sum_F8=sum_F9 = 0\n",
        "\n",
        "    for i in range(column_matrix[1]):\n",
        "        sum_F1 = sum_F1 + F1[i]\n",
        "        sum_F2 = sum_F2 + F2[i]\n",
        "        sum_F3 = sum_F3 + F3[i]\n",
        "        sum_F4 = sum_F4 + F4[i]\n",
        "        sum_F5 = sum_F5 + F5[i]\n",
        "        sum_F6 = sum_F6 + F6[i]\n",
        "        sum_F7 = sum_F7 + (1 / F7[i])      # максимізований критерії\n",
        "        sum_F8 = sum_F8 + (1 / F8[i])      # максимізований критерії\n",
        "        sum_F9 = sum_F9 + F9[i]\n",
        "\n",
        "    for i in range(column_matrix[1]):\n",
        "        # --------------- нормалізація критеріїв ------------------\n",
        "        F10[i] = F1[i] / sum_F1\n",
        "        F20[i] = F2[i] / sum_F2\n",
        "        F30[i] = F3[i] / sum_F3\n",
        "        F40[i] = F4[i] / sum_F4\n",
        "        F50[i] = F5[i] / sum_F5\n",
        "        F60[i] = F6[i] / sum_F6\n",
        "        F70[i] = (1/F7[i]) / sum_F7       # максимізований критерії\n",
        "        F80[i] = (1/F8[i]) / sum_F8       # максимізований критерії\n",
        "        F90[i] = F9[i] / sum_F9\n",
        "\n",
        "        Integro[i] = (G10*(1 - F10[i]) ** (-1))  + (G20*(1 - F20[i]) ** (-1)) + (G30*(1 - F30[i]) ** (-1))\n",
        "        + (G40 * (1 - F40[i]) ** (-1)) + (G50 * (1 - F50[i]) ** (-1)) + (G60 * (1 - F60[i]) ** (-1))\n",
        "        + (G70*(1 - F70[i]) ** (-1))  + (G80*(1 - F80[i]) ** (-1)) + (G90*(1 - F90[i]) ** (-1))\n",
        "\n",
        "        # --------------- генерація оптимального рішення ----------------\n",
        "        min=10000\n",
        "        opt=0\n",
        "        for i in range(column_matrix[1]):\n",
        "                if min > Integro[i]:\n",
        "                   min = Integro[i]\n",
        "                   opt=i\n",
        "        print('Інтегрована оцінка (score):')\n",
        "        print(Integro)\n",
        "        print('Оптимальний варіант:', opt)\n",
        "\n",
        "        return\n"
      ],
      "metadata": {
        "id": "Lihrm1zmRYF3"
      },
      "execution_count": 16,
      "outputs": []
    },
    {
      "cell_type": "code",
      "source": [
        "def OLAP_cube (File_name, G1, G2, G3, G4, G5, G6, G7, G8, G9):\n",
        "\n",
        "    # --------------------- вхідні дані -------------------------\n",
        "    line_column_matrix = matrix_generation(File_name)\n",
        "    column_matrix = np.shape(line_column_matrix)\n",
        "    Integro = np.zeros((column_matrix[1]))\n",
        "\n",
        "    F1 = matrix_adapter(line_column_matrix, 0)\n",
        "    F2 = matrix_adapter(line_column_matrix, 1)\n",
        "    F3 = matrix_adapter(line_column_matrix, 2)\n",
        "    F4 = matrix_adapter(line_column_matrix, 3)\n",
        "    F5 = matrix_adapter(line_column_matrix, 4)\n",
        "    F6 = matrix_adapter(line_column_matrix, 5)\n",
        "    F7 = matrix_adapter(line_column_matrix, 6)\n",
        "    F8 = matrix_adapter(line_column_matrix, 7)\n",
        "    F9 = matrix_adapter(line_column_matrix, 8)\n",
        "\n",
        "    #--------------- нормалізація вхідних даних ------------------\n",
        "    F10 = np.zeros((column_matrix[1]))\n",
        "    F20 = np.zeros((column_matrix[1]))\n",
        "    F30 = np.zeros((column_matrix[1]))\n",
        "    F40 = np.zeros((column_matrix[1]))\n",
        "    F50 = np.zeros((column_matrix[1]))\n",
        "    F60 = np.zeros((column_matrix[1]))\n",
        "    F70 = np.zeros((column_matrix[1]))\n",
        "    F80 = np.zeros((column_matrix[1]))\n",
        "    F90 = np.zeros((column_matrix[1]))\n",
        "\n",
        "    GNorm = G1 + G2 + G3 + G4 + G5 + G6 + G6 + G7 + G8 + G9\n",
        "    G10 = G1 / GNorm\n",
        "    G20 = G2 / GNorm\n",
        "    G30 = G3 / GNorm\n",
        "    G40 = G4 / GNorm\n",
        "    G50 = G5 / GNorm\n",
        "    G60 = G6 / GNorm\n",
        "    G70 = G7 / GNorm\n",
        "    G80 = G8 / GNorm\n",
        "    G90 = G9 / GNorm\n",
        "\n",
        "    sum_F1=sum_F2=sum_F3=sum_F4=sum_F5=sum_F6=sum_F7=sum_F8=sum_F9 = 0\n",
        "\n",
        "    for i in range(column_matrix[1]):\n",
        "        sum_F1 = sum_F1 + F1[i]\n",
        "        sum_F2 = sum_F2 + F2[i]\n",
        "        sum_F3 = sum_F3 + F3[i]\n",
        "        sum_F4 = sum_F4 + F4[i]\n",
        "        sum_F5 = sum_F5 + F5[i]\n",
        "        sum_F6 = sum_F6 + (1 / F6[i])  # максимізований критерії\n",
        "        sum_F7 = sum_F7 + F7[i]\n",
        "        sum_F8 = sum_F8 + F8[i]\n",
        "        sum_F9 = sum_F9 + F9[i]\n",
        "\n",
        "    for i in range(column_matrix[1]):\n",
        "        # --------------- нормалізація критеріїв ------------------\n",
        "        F10[i] = F1[i] / sum_F1\n",
        "        F20[i] = F2[i] / sum_F2\n",
        "        F30[i] = F3[i] / sum_F3\n",
        "        F40[i] = F4[i] / sum_F4\n",
        "        F50[i] = F5[i] / sum_F5\n",
        "        F60[i] = (1/F6[i]) / sum_F6  # максимізований критерії\n",
        "        F70[i] = F7[i] / sum_F7\n",
        "        F80[i] = F8[i] / sum_F8\n",
        "        F90[i] = F9[i] / sum_F9\n",
        "\n",
        "        Integro[i] = (G10*(1 - F10[i]) ** (-1)) + (G20*(1 - F20[i]) ** (-1)) + (G30*(1 - F30[i]) ** (-1))\n",
        "        + (G40 * (1 - F40[i]) ** (-1)) + (G50 * (1 - F50[i]) ** (-1)) + (G60 * (1 - F60[i]) ** (-1))\n",
        "        + (G70*(1 - F70[i]) ** (-1)) + (G80*(1 - F80[i]) ** (-1)) + (G90*(1 - F90[i]) ** (-1))\n",
        "\n",
        "\n",
        "    # --------------------- OLAP_cube ----------------------\n",
        "\n",
        "    xg = np.ones((column_matrix[1]))\n",
        "    for i in range(len(F10)):\n",
        "        xg[i] = i\n",
        "\n",
        "    fig = pylab.figure()\n",
        "    ax = fig.add_subplot(projection='3d')\n",
        "    clr = ['#4bb2c5', '#c5b47f', '#EAA228', '#579575', '#839557', '#958c12', '#953579', '#4b5de4', '#4bb2c5']\n",
        "    ax.bar(xg, F10, 1, zdir='y', color=clr)\n",
        "    ax.bar(xg, F20, 2, zdir='y', color=clr)\n",
        "    ax.bar(xg, F30, 3, zdir='y', color=clr)\n",
        "    ax.bar(xg, F40, 4, zdir='y', color=clr)\n",
        "    ax.bar(xg, F50, 5, zdir='y', color=clr)\n",
        "    ax.bar(xg, F60, 6, zdir='y', color=clr)\n",
        "    ax.bar(xg, F70, 7, zdir='y', color=clr)\n",
        "    ax.bar(xg, F80, 8, zdir='y', color=clr)\n",
        "    ax.bar(xg, F90, 9, zdir='y', color=clr)\n",
        "    ax.bar(xg, Integro, 10, zdir='y', color=clr)\n",
        "    ax.set_xlabel('X Label')\n",
        "    ax.set_ylabel('Y Label')\n",
        "    ax.set_xlabel('X Label')\n",
        "    pylab.show()\n",
        "\n",
        "    return"
      ],
      "metadata": {
        "id": "XGdP0WDDq1Mc"
      },
      "execution_count": 17,
      "outputs": []
    },
    {
      "cell_type": "code",
      "source": [],
      "metadata": {
        "id": "r9vPrIB0rCxR"
      },
      "execution_count": null,
      "outputs": []
    },
    {
      "cell_type": "code",
      "source": [
        "# -------------------------------- БЛОК ГОЛОВНИХ ВИКЛИКІВ ------------------------------\n",
        "if __name__ == '__main__':\n",
        "\n",
        "    File_name = File_path\n",
        "    # ---------------- коефіціенти переваги критеріїв -----------------\n",
        "    G1 = G2 = G3 = G4 = G5 = G6 = G7 = G8 = G9 = 1\n",
        "    G1 = 1           # коефіціент домінування критерію\n",
        "\n",
        "    Voronin(File_name, G1, G2, G3, G4, G5, G6, G7, G8, G9)\n"
      ],
      "metadata": {
        "colab": {
          "base_uri": "https://localhost:8080/"
        },
        "id": "MhlKo8djRlTu",
        "outputId": "3d850f7f-5dbc-424d-fedf-b0aae4625e3a"
      },
      "execution_count": 18,
      "outputs": [
        {
          "output_type": "stream",
          "name": "stdout",
          "text": [
            "                                          0  Житло 8  Житло 7  Житло 6  \\\n",
            "0                           Площа житла, м2    97.50   102.60     64.8   \n",
            "1                          Кількість кімнат     3.00     4.00      2.0   \n",
            "2                Якість ремонту, від 1 до 5     1.00     4.00      5.0   \n",
            "3                           Висота стелі, м     2.65     2.85      3.1   \n",
            "4                    Вартість житла, тис. $    90.00   160.00     85.0   \n",
            "5      Вартість утримання будинку, грн/міс.  1000.00  1700.00   1900.0   \n",
            "6                        Вік будинку, років    20.00     0.00      5.0   \n",
            "7         Час від останнього ремонту, років    20.00     0.00      0.0   \n",
            "8                                    Поверх     1.00     1.00     20.0   \n",
            "9                     Відстань до метро, км     1.00     2.00      0.2   \n",
            "10  Кількість незаселених квартир в підїзді     1.00    30.00      5.0   \n",
            "11             Кількість квартир у під'їзді    86.00    96.00    140.0   \n",
            "\n",
            "    Житло 5  Житло 4  Житло 3  Житло 2  Житло 1 Критерій  \n",
            "0      62.0   127.00     42.3    86.00    120.0      мах  \n",
            "1       1.0     5.00      2.0     3.00      4.0      мах  \n",
            "2       3.0     2.00      3.0     5.00      2.0      мах  \n",
            "3       3.2     2.75      2.7     2.95      2.9      мах  \n",
            "4      75.0   135.00     52.0   100.00    118.0      мін  \n",
            "5    1600.0  1000.00    700.0  1300.00   1200.0      мін  \n",
            "6      50.0    15.00     20.0    12.00     19.0      мін  \n",
            "7      10.0    10.00     10.0     5.00     11.0      мін  \n",
            "8       5.0    10.00      6.0     7.00     11.0      мін  \n",
            "9       0.5     3.00      2.0     0.70      1.0      мін  \n",
            "10      3.0     5.00      2.0     3.00      7.0      мін  \n",
            "11     56.0    64.00     16.0    36.00     54.0      мін  \n",
            "Інтегрована оцінка (score):\n",
            "[0.33457608 0.         0.         0.         0.         0.\n",
            " 0.         0.        ]\n",
            "Оптимальний варіант: 1\n"
          ]
        },
        {
          "output_type": "stream",
          "name": "stderr",
          "text": [
            "<ipython-input-16-ed25cc23e503>:49: RuntimeWarning: divide by zero encountered in double_scalars\n",
            "  sum_F7 = sum_F7 + (1 / F7[i])      # максимізований критерії\n",
            "<ipython-input-16-ed25cc23e503>:50: RuntimeWarning: divide by zero encountered in double_scalars\n",
            "  sum_F8 = sum_F8 + (1 / F8[i])      # максимізований критерії\n"
          ]
        }
      ]
    },
    {
      "cell_type": "markdown",
      "source": [
        "Порівнюємо із OLAP методом аналізу"
      ],
      "metadata": {
        "id": "AX8Hy1vJriH6"
      }
    },
    {
      "cell_type": "code",
      "source": [
        "\n",
        "OLAP_cube(File_name, G1, G2, G3, G4, G5, G6, G7, G8, G9)\n"
      ],
      "metadata": {
        "colab": {
          "base_uri": "https://localhost:8080/",
          "height": 875
        },
        "id": "993yopxAqia1",
        "outputId": "b49a8fe8-29a7-439a-8b5d-fb06d463a6a3"
      },
      "execution_count": 20,
      "outputs": [
        {
          "output_type": "stream",
          "name": "stdout",
          "text": [
            "                                          0  Житло 8  Житло 7  Житло 6  \\\n",
            "0                           Площа житла, м2    97.50   102.60     64.8   \n",
            "1                          Кількість кімнат     3.00     4.00      2.0   \n",
            "2                Якість ремонту, від 1 до 5     1.00     4.00      5.0   \n",
            "3                           Висота стелі, м     2.65     2.85      3.1   \n",
            "4                    Вартість житла, тис. $    90.00   160.00     85.0   \n",
            "5      Вартість утримання будинку, грн/міс.  1000.00  1700.00   1900.0   \n",
            "6                        Вік будинку, років    20.00     0.00      5.0   \n",
            "7         Час від останнього ремонту, років    20.00     0.00      0.0   \n",
            "8                                    Поверх     1.00     1.00     20.0   \n",
            "9                     Відстань до метро, км     1.00     2.00      0.2   \n",
            "10  Кількість незаселених квартир в підїзді     1.00    30.00      5.0   \n",
            "11             Кількість квартир у під'їзді    86.00    96.00    140.0   \n",
            "\n",
            "    Житло 5  Житло 4  Житло 3  Житло 2  Житло 1 Критерій  \n",
            "0      62.0   127.00     42.3    86.00    120.0      мах  \n",
            "1       1.0     5.00      2.0     3.00      4.0      мах  \n",
            "2       3.0     2.00      3.0     5.00      2.0      мах  \n",
            "3       3.2     2.75      2.7     2.95      2.9      мах  \n",
            "4      75.0   135.00     52.0   100.00    118.0      мін  \n",
            "5    1600.0  1000.00    700.0  1300.00   1200.0      мін  \n",
            "6      50.0    15.00     20.0    12.00     19.0      мін  \n",
            "7      10.0    10.00     10.0     5.00     11.0      мін  \n",
            "8       5.0    10.00      6.0     7.00     11.0      мін  \n",
            "9       0.5     3.00      2.0     0.70      1.0      мін  \n",
            "10      3.0     5.00      2.0     3.00      7.0      мін  \n",
            "11     56.0    64.00     16.0    36.00     54.0      мін  \n"
          ]
        },
        {
          "output_type": "display_data",
          "data": {
            "text/plain": [
              "<Figure size 640x480 with 1 Axes>"
            ],
            "image/png": "[encoded data removed]"
          },
          "metadata": {}
        }
      ]
    },
    {
      "cell_type": "markdown",
      "source": [
        "Висновок: OLAP-cube дозволив наочно порівняти варіанти і переконатися, що перший був найкращий."
      ],
      "metadata": {
        "id": "h9nZKu-DrqOT"
      }
    }
  ]
}